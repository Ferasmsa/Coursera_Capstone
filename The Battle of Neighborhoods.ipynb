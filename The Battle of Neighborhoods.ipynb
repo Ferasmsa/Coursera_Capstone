{
 "cells": [
  {
   "cell_type": "markdown",
   "metadata": {},
   "source": [
    "# Capstone Project"
   ]
  },
  {
   "cell_type": "markdown",
   "metadata": {},
   "source": [
    "## Choosing the Best Location for a Fast Food Restaurant in New York City"
   ]
  },
  {
   "cell_type": "markdown",
   "metadata": {},
   "source": [
    "### 1- Introduction / Business Problem\n",
    "\n",
    "The \"Big Apple,\" the \"City That Never Sleeps\" New York is a city of superlatives: America's biggest; its most exciting; its business and cultural capitals; the nation's trendsetter. The city seems to pull in the best and the brightest from every corner of the country. The city's ethnic flavor has been nuanced by decades of immigrants whose first glimpse of America was the Statue of Liberty guarding New York Harbor and by large expatriate communities such as the United Nations headquartered there. For all its eight million residents, New York remains a city of neighborhoods, whether it's avant-garde Greenwich Village, bustling Harlem, the ultra-sophisticated TriBeCa, or one of the ethnic enclaves such as Little Italy or Chinatown. And a cleaner, brighter, safer New York is attracting people from around the world who are coming to enjoy the city's renaissance.\n",
    "\n",
    "Opening a restaurant is all about location, location, location. However, not every restaurant is suitable for every location, and vice versa. It comes down to a combination of restaurant concept and ideal customer. If you can define your restaurant type and identify your target demographic and its most populated areas, you’ll be well on your way to choosing a restaurant location that sets your business up for success.\n",
    "\n",
    "Fast food restaurant customers are 15-35 age range, spontaneous and not planned, often connected to another activity like shopping or an evening out with friends. Lower income profile, high population density and high foot traffic are all key considerations.\n",
    "\n",
    "In this project, we will analyze the neighborhood of NYC to choose the best location to open a fast food restaurant."
   ]
  },
  {
   "cell_type": "markdown",
   "metadata": {},
   "source": [
    "### 2- Data\n",
    "\n",
    "New York neighborhood has a total of 5 boroughs and 306 neighborhoods. Dataset of the boroughs and neighborhoods is available on the web at https://geo.nyu.edu/catalog/nyu_2451_34572. Latitude and longitude values of NYC and its neighborhood will be gotten from geopy library. Foursquare API will be used to explore the venues in each neighborhood, and the neighborhoods will be classified using a decision tree to choose the neighborhoods with crowded landmarks such as museums, food courts, shopping malls, ...etc."
   ]
  },
  {
   "cell_type": "code",
   "execution_count": null,
   "metadata": {},
   "outputs": [],
   "source": []
  }
 ],
 "metadata": {
  "kernelspec": {
   "display_name": "Python 3",
   "language": "python",
   "name": "python3"
  },
  "language_info": {
   "codemirror_mode": {
    "name": "ipython",
    "version": 3
   },
   "file_extension": ".py",
   "mimetype": "text/x-python",
   "name": "python",
   "nbconvert_exporter": "python",
   "pygments_lexer": "ipython3",
   "version": "3.6.5"
  }
 },
 "nbformat": 4,
 "nbformat_minor": 2
}
